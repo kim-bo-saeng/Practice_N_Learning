{
  "nbformat": 4,
  "nbformat_minor": 0,
  "metadata": {
    "colab": {
      "name": "modu_deep_learning.ipynb",
      "provenance": [],
      "collapsed_sections": [],
      "authorship_tag": "ABX9TyPkGWHTxS937dYdr4x2E/r8",
      "include_colab_link": true
    },
    "kernelspec": {
      "name": "python3",
      "display_name": "Python 3"
    }
  },
  "cells": [
    {
      "cell_type": "markdown",
      "metadata": {
        "id": "view-in-github",
        "colab_type": "text"
      },
      "source": [
        "<a href=\"https://colab.research.google.com/github/kim-bo-saeng/Practice_N_Learning/blob/master/modu_deep_learning.ipynb\" target=\"_parent\"><img src=\"https://colab.research.google.com/assets/colab-badge.svg\" alt=\"Open In Colab\"/></a>"
      ]
    },
    {
      "cell_type": "code",
      "metadata": {
        "id": "POreyGmp4EcC",
        "colab_type": "code",
        "colab": {
          "base_uri": "https://localhost:8080/",
          "height": 127
        },
        "outputId": "bb7895c6-2de5-4737-f3c5-afa92cd28cda"
      },
      "source": [
        "from google.colab import drive\n",
        "drive.mount('/gdrive')"
      ],
      "execution_count": 1,
      "outputs": [
        {
          "output_type": "stream",
          "text": [
            "Go to this URL in a browser: https://accounts.google.com/o/oauth2/auth?client_id=947318989803-6bn6qk8qdgf4n4g3pfee6491hc0brc4i.apps.googleusercontent.com&redirect_uri=urn%3aietf%3awg%3aoauth%3a2.0%3aoob&scope=email%20https%3a%2f%2fwww.googleapis.com%2fauth%2fdocs.test%20https%3a%2f%2fwww.googleapis.com%2fauth%2fdrive%20https%3a%2f%2fwww.googleapis.com%2fauth%2fdrive.photos.readonly%20https%3a%2f%2fwww.googleapis.com%2fauth%2fpeopleapi.readonly&response_type=code\n",
            "\n",
            "Enter your authorization code:\n",
            "··········\n",
            "Mounted at /gdrive\n"
          ],
          "name": "stdout"
        }
      ]
    },
    {
      "cell_type": "code",
      "metadata": {
        "id": "80wEYGgL3ReA",
        "colab_type": "code",
        "colab": {}
      },
      "source": [
        "from tensorflow.keras.models import Sequential\n",
        "from tensorflow.keras.layers import Dense\n",
        "import numpy as np\n",
        "import pandas as pd\n",
        "import matplotlib.pyplot as plt\n",
        "import tensorflow as tf"
      ],
      "execution_count": 2,
      "outputs": []
    },
    {
      "cell_type": "code",
      "metadata": {
        "id": "5ULzbk6q3uZt",
        "colab_type": "code",
        "colab": {}
      },
      "source": [
        "np.random.seed(3)\n",
        "tf.random.set_seed(3)\n",
        "\n",
        "Data_set = np.loadtxt('/gdrive/My Drive/data_analysis/modu_deep_learning/deeplearning/dataset/ThoraricSurgery.csv', delimiter=\",\")\n",
        "\n",
        "X = Data_set[:,0:17]\n",
        "Y = Data_set[:,17]\n",
        "\n",
        "model = Sequential()\n",
        "model.add(Dense(30, input_dim = 17, activation = 'relu'))\n",
        "model.add(Dense(1, activation = 'sigmoid'))\n",
        "\n",
        "model.compile(loss = 'binary_crossentropy', optimizer = 'adam', metrics = ['accuracy'])\n",
        "model.fit(X, Y, epochs = 100, batch_size = 10)"
      ],
      "execution_count": null,
      "outputs": []
    },
    {
      "cell_type": "code",
      "metadata": {
        "id": "N0uv7_pd6ywI",
        "colab_type": "code",
        "colab": {}
      },
      "source": [
        "x = [2,4,6,8]\n",
        "y = [81,93,91,97]"
      ],
      "execution_count": null,
      "outputs": []
    },
    {
      "cell_type": "code",
      "metadata": {
        "id": "49lje2c33lrd",
        "colab_type": "code",
        "colab": {
          "base_uri": "https://localhost:8080/",
          "height": 53
        },
        "outputId": "e7a13c7d-6380-420a-f11d-32ae80245ee5"
      },
      "source": [
        "mx = np.mean(x)\n",
        "my = np.mean(y)\n",
        "print(mx)\n",
        "print(my)"
      ],
      "execution_count": null,
      "outputs": [
        {
          "output_type": "stream",
          "text": [
            "5.0\n",
            "90.5\n"
          ],
          "name": "stdout"
        }
      ]
    },
    {
      "cell_type": "code",
      "metadata": {
        "id": "KNL097_i3rlI",
        "colab_type": "code",
        "colab": {
          "base_uri": "https://localhost:8080/",
          "height": 35
        },
        "outputId": "9f761466-44b9-463b-b9b9-473a04302fbe"
      },
      "source": [
        "divisor = sum([(i - mx)**2 for i in x])\n",
        "divisor"
      ],
      "execution_count": null,
      "outputs": [
        {
          "output_type": "execute_result",
          "data": {
            "text/plain": [
              "20.0"
            ]
          },
          "metadata": {
            "tags": []
          },
          "execution_count": 6
        }
      ]
    },
    {
      "cell_type": "code",
      "metadata": {
        "id": "IqeAuJ8G35Qw",
        "colab_type": "code",
        "colab": {
          "base_uri": "https://localhost:8080/",
          "height": 35
        },
        "outputId": "c9e7bd0a-d8c6-40b1-daf0-7b7925466213"
      },
      "source": [
        "def top(x, mx, y, my):\n",
        "  d = 0\n",
        "  for i in range(len(x)):\n",
        "    d += (x[i] - mx) * (y[i] - my)\n",
        "  return d\n",
        "dividend = top(x, mx, y, my)\n",
        "dividend"
      ],
      "execution_count": null,
      "outputs": [
        {
          "output_type": "execute_result",
          "data": {
            "text/plain": [
              "46.0"
            ]
          },
          "metadata": {
            "tags": []
          },
          "execution_count": 13
        }
      ]
    },
    {
      "cell_type": "code",
      "metadata": {
        "id": "dLeNQaRo4fSS",
        "colab_type": "code",
        "colab": {}
      },
      "source": [
        "a = dividend / divisor\n",
        "b = my - (mx*a)"
      ],
      "execution_count": null,
      "outputs": []
    },
    {
      "cell_type": "code",
      "metadata": {
        "id": "QrgcT6cW4tOH",
        "colab_type": "code",
        "colab": {
          "base_uri": "https://localhost:8080/",
          "height": 35
        },
        "outputId": "d1906d66-92c4-4502-e7a4-617e8d31afbd"
      },
      "source": [
        "a"
      ],
      "execution_count": null,
      "outputs": [
        {
          "output_type": "execute_result",
          "data": {
            "text/plain": [
              "2.3"
            ]
          },
          "metadata": {
            "tags": []
          },
          "execution_count": 15
        }
      ]
    },
    {
      "cell_type": "code",
      "metadata": {
        "id": "USesFcEo4t4c",
        "colab_type": "code",
        "colab": {
          "base_uri": "https://localhost:8080/",
          "height": 35
        },
        "outputId": "ec0e1e70-8dec-4714-da18-c7d51c82a7eb"
      },
      "source": [
        "b"
      ],
      "execution_count": null,
      "outputs": [
        {
          "output_type": "execute_result",
          "data": {
            "text/plain": [
              "79.0"
            ]
          },
          "metadata": {
            "tags": []
          },
          "execution_count": 16
        }
      ]
    },
    {
      "cell_type": "code",
      "metadata": {
        "id": "-zWMnFEf4uOz",
        "colab_type": "code",
        "colab": {
          "base_uri": "https://localhost:8080/",
          "height": 107
        },
        "outputId": "7d4f8976-ec71-4973-d7b5-639053dd9e20"
      },
      "source": [
        "fake_a_b = [3, 76]\n",
        "\n",
        "data = [[2, 81], [4, 93], [6, 91], [8, 97]]\n",
        "x = [i[0] for i in data]\n",
        "y = [i[1] for i in data]\n",
        "\n",
        "def predict(x):\n",
        "  return fake_a_b[0]*x + fake_a_b[1]\n",
        "\n",
        "def mse(y , y_hat):\n",
        "  return ((y - y_hat)**2).mean()\n",
        "\n",
        "def mse_val(y, predict_result):\n",
        "  return mse(np.array(y), np.array(predict_result))\n",
        "\n",
        "predict_result = []\n",
        "\n",
        "for i in range(len(x)):\n",
        "  predict_result.append(predict(x[i]))\n",
        "  print(\"공부한 시간=%.f, 실제 점수 = %.f, 예측점수 = %.f\" % (x[i], y[i], predict(x[i])))\n",
        "\n",
        "print(\"mse 최종값: \" + str(mse_val(predict_result, y)))"
      ],
      "execution_count": null,
      "outputs": [
        {
          "output_type": "stream",
          "text": [
            "공부한 시간=2, 실제 점수 = 81, 예측점수 = 82\n",
            "공부한 시간=4, 실제 점수 = 93, 예측점수 = 88\n",
            "공부한 시간=6, 실제 점수 = 91, 예측점수 = 94\n",
            "공부한 시간=8, 실제 점수 = 97, 예측점수 = 100\n",
            "mse 최종값: 11.0\n"
          ],
          "name": "stdout"
        }
      ]
    },
    {
      "cell_type": "code",
      "metadata": {
        "id": "80ycY7KT80mm",
        "colab_type": "code",
        "colab": {}
      },
      "source": [
        "data = [[2, 81], [4, 93], [6, 91], [8, 97]]\n",
        "x = [i[0] for i in data]\n",
        "y = [i[1] for i in data]"
      ],
      "execution_count": 17,
      "outputs": []
    },
    {
      "cell_type": "code",
      "metadata": {
        "id": "axIbVXngBDVe",
        "colab_type": "code",
        "colab": {
          "base_uri": "https://localhost:8080/",
          "height": 338
        },
        "outputId": "637cb8b6-775a-4859-8d2f-1fcbf0ef72e1"
      },
      "source": [
        "plt.figure(figsize=(8,5))\n",
        "plt.scatter(x, y)"
      ],
      "execution_count": 18,
      "outputs": [
        {
          "output_type": "execute_result",
          "data": {
            "text/plain": [
              "<matplotlib.collections.PathCollection at 0x7fa453a61588>"
            ]
          },
          "metadata": {
            "tags": []
          },
          "execution_count": 18
        },
        {
          "output_type": "display_data",
          "data": {
            "image/png": "[encoded data removed]",
            "text/plain": [
              "<Figure size 576x360 with 1 Axes>"
            ]
          },
          "metadata": {
            "tags": [],
            "needs_background": "light"
          }
        }
      ]
    },
    {
      "cell_type": "code",
      "metadata": {
        "id": "IUeqcUGBBD59",
        "colab_type": "code",
        "colab": {}
      },
      "source": [
        "x_data = np.array(x)\n",
        "y_data = np.array(y)"
      ],
      "execution_count": 21,
      "outputs": []
    },
    {
      "cell_type": "code",
      "metadata": {
        "id": "vZwv5TvoCB5F",
        "colab_type": "code",
        "colab": {}
      },
      "source": [
        "a = 0\n",
        "b = 0\n",
        "lr = 0.03\n",
        "epochs = 2001"
      ],
      "execution_count": 23,
      "outputs": []
    },
    {
      "cell_type": "code",
      "metadata": {
        "id": "Cl2lOBxJCPKb",
        "colab_type": "code",
        "colab": {
          "base_uri": "https://localhost:8080/",
          "height": 661
        },
        "outputId": "8d623b09-2511-45d2-9e32-b5038916fb26"
      },
      "source": [
        "for i in range(epochs):\n",
        "  y_pred = a * x_data + b\n",
        "  error = y_data - y_pred\n",
        "\n",
        "  a_diff = -(2/len(x_data)) * sum(x_data * error)\n",
        "  b_diff = -(2/len(x_data)) * sum(error)\n",
        "\n",
        "  a = a - lr * a_diff\n",
        "  b = b - lr * b_diff\n",
        "\n",
        "  if i % 100 == 0:\n",
        "    print(\"epochs = %.f, 기울기 = %.04f, 절편 = %.04f\" % (i, a, b))\n",
        "\n",
        "y_pred = a * x_data + b\n",
        "plt.scatter(x, y)\n",
        "plt.plot([min(x_data), max(x_data)], [min(y_pred), max(y_pred)])"
      ],
      "execution_count": 26,
      "outputs": [
        {
          "output_type": "stream",
          "text": [
            "epochs = 0, 기울기 = 27.8400, 절편 = 5.4300\n",
            "epochs = 100, 기울기 = 7.0739, 절편 = 50.5117\n",
            "epochs = 200, 기울기 = 4.0960, 절편 = 68.2822\n",
            "epochs = 300, 기울기 = 2.9757, 절편 = 74.9678\n",
            "epochs = 400, 기울기 = 2.5542, 절편 = 77.4830\n",
            "epochs = 500, 기울기 = 2.3956, 절편 = 78.4293\n",
            "epochs = 600, 기울기 = 2.3360, 절편 = 78.7853\n",
            "epochs = 700, 기울기 = 2.3135, 절편 = 78.9192\n",
            "epochs = 800, 기울기 = 2.3051, 절편 = 78.9696\n",
            "epochs = 900, 기울기 = 2.3019, 절편 = 78.9886\n",
            "epochs = 1000, 기울기 = 2.3007, 절편 = 78.9957\n",
            "epochs = 1100, 기울기 = 2.3003, 절편 = 78.9984\n",
            "epochs = 1200, 기울기 = 2.3001, 절편 = 78.9994\n",
            "epochs = 1300, 기울기 = 2.3000, 절편 = 78.9998\n",
            "epochs = 1400, 기울기 = 2.3000, 절편 = 78.9999\n",
            "epochs = 1500, 기울기 = 2.3000, 절편 = 79.0000\n",
            "epochs = 1600, 기울기 = 2.3000, 절편 = 79.0000\n",
            "epochs = 1700, 기울기 = 2.3000, 절편 = 79.0000\n",
            "epochs = 1800, 기울기 = 2.3000, 절편 = 79.0000\n",
            "epochs = 1900, 기울기 = 2.3000, 절편 = 79.0000\n",
            "epochs = 2000, 기울기 = 2.3000, 절편 = 79.0000\n"
          ],
          "name": "stdout"
        },
        {
          "output_type": "execute_result",
          "data": {
            "text/plain": [
              "[<matplotlib.lines.Line2D at 0x7fa452f3a048>]"
            ]
          },
          "metadata": {
            "tags": []
          },
          "execution_count": 26
        },
        {
          "output_type": "display_data",
          "data": {
            "image/png": "[encoded data removed]",
            "text/plain": [
              "<Figure size 432x288 with 1 Axes>"
            ]
          },
          "metadata": {
            "tags": [],
            "needs_background": "light"
          }
        }
      ]
    },
    {
      "cell_type": "code",
      "metadata": {
        "id": "R04RGL6vEdBE",
        "colab_type": "code",
        "colab": {
          "base_uri": "https://localhost:8080/",
          "height": 626
        },
        "outputId": "cd603483-28bf-49da-8fd7-b38f129296ee"
      },
      "source": [
        "data = [[2,0,81],[4,4,93],[6,2,91],[8,3,97]]\n",
        "x1 = [i[0] for i in data]\n",
        "x2 = [i[1] for i in data]\n",
        "y = [i[2] for i in data]\n",
        "\n",
        "import matplotlib.pyplot as plt\n",
        "from mpl_toolkits import mplot3d\n",
        "\n",
        "ax = plt.axes(projection = '3d')\n",
        "ax.set_xlabel('study_hours')\n",
        "ax.set_ylabel('prvate_class')\n",
        "ax.set_zlabel('Score')\n",
        "ax.dist = 11\n",
        "ax.scatter(x1, x2, y)\n",
        "\n",
        "x1_data = np.array(x1)\n",
        "x2_data = np.array(x2)\n",
        "y_data = np.array(y)\n",
        "\n",
        "a1 = 0\n",
        "a2 = 0\n",
        "b = 0\n",
        "lr = 0.05\n",
        "epochs = 2001\n",
        "\n",
        "for i in range(epochs):\n",
        "  y_pred = a1 * x1_data + a2 * x2_data + b\n",
        "  error = y_data - y_pred\n",
        "\n",
        "  a1_diff = -(1/len(x1_data)) * sum(x1_data * error)\n",
        "  a2_diff = -(1/len(x2_data)) * sum(x2_data * error)\n",
        "  b_diff = -(1/len(x1_data)) * sum(y_data - y_pred)\n",
        "  a1 = a1 - lr * a1_diff\n",
        "  a2 = a2 - lr * a2_diff\n",
        "  b = b - lr * b_diff\n",
        "\n",
        "  if i % 100 == 0:\n",
        "    print(\"epochs = %.f, 기울기1 = %.04f, 기울기2 = %.04f,절편 = %.04f\" % (i, a1, a2, b))"
      ],
      "execution_count": 30,
      "outputs": [
        {
          "output_type": "stream",
          "text": [
            "epochs = 0, 기울기1 = 23.2000, 기울기2 = 10.5625,절편 = 4.5250\n",
            "epochs = 100, 기울기1 = 6.4348, 기울기2 = 3.9893,절편 = 43.9757\n",
            "epochs = 200, 기울기1 = 3.7255, 기울기2 = 3.0541,절편 = 62.5766\n",
            "epochs = 300, 기울기1 = 2.5037, 기울기2 = 2.6323,절편 = 70.9656\n",
            "epochs = 400, 기울기1 = 1.9527, 기울기2 = 2.4420,절편 = 74.7491\n",
            "epochs = 500, 기울기1 = 1.7042, 기울기2 = 2.3562,절편 = 76.4554\n",
            "epochs = 600, 기울기1 = 1.5921, 기울기2 = 2.3175,절편 = 77.2250\n",
            "epochs = 700, 기울기1 = 1.5415, 기울기2 = 2.3001,절편 = 77.5720\n",
            "epochs = 800, 기울기1 = 1.5187, 기울기2 = 2.2922,절편 = 77.7286\n",
            "epochs = 900, 기울기1 = 1.5084, 기울기2 = 2.2886,절편 = 77.7992\n",
            "epochs = 1000, 기울기1 = 1.5038, 기울기2 = 2.2870,절편 = 77.8310\n",
            "epochs = 1100, 기울기1 = 1.5017, 기울기2 = 2.2863,절편 = 77.8453\n",
            "epochs = 1200, 기울기1 = 1.5008, 기울기2 = 2.2860,절편 = 77.8518\n",
            "epochs = 1300, 기울기1 = 1.5003, 기울기2 = 2.2858,절편 = 77.8547\n",
            "epochs = 1400, 기울기1 = 1.5002, 기울기2 = 2.2858,절편 = 77.8561\n",
            "epochs = 1500, 기울기1 = 1.5001, 기울기2 = 2.2857,절편 = 77.8567\n",
            "epochs = 1600, 기울기1 = 1.5000, 기울기2 = 2.2857,절편 = 77.8569\n",
            "epochs = 1700, 기울기1 = 1.5000, 기울기2 = 2.2857,절편 = 77.8570\n",
            "epochs = 1800, 기울기1 = 1.5000, 기울기2 = 2.2857,절편 = 77.8571\n",
            "epochs = 1900, 기울기1 = 1.5000, 기울기2 = 2.2857,절편 = 77.8571\n",
            "epochs = 2000, 기울기1 = 1.5000, 기울기2 = 2.2857,절편 = 77.8571\n"
          ],
          "name": "stdout"
        },
        {
          "output_type": "display_data",
          "data": {
            "image/png": "[encoded data removed]",
            "text/plain": [
              "<Figure size 432x288 with 1 Axes>"
            ]
          },
          "metadata": {
            "tags": [],
            "needs_background": "light"
          }
        }
      ]
    },
    {
      "cell_type": "code",
      "metadata": {
        "id": "s0Sxck79SH5X",
        "colab_type": "code",
        "colab": {
          "base_uri": "https://localhost:8080/",
          "height": 643
        },
        "outputId": "236c86f7-852c-445e-ee71-04603d614c72"
      },
      "source": [
        "data = [[2,0], [4,0], [6,0], [8,1], [10,1], [12,1], [14,1]]\n",
        "\n",
        "x_data = [i[0] for i in data]\n",
        "y_data = [i[1] for i in data]\n",
        "\n",
        "plt.scatter(x_data, y_data)\n",
        "plt.xlim(0,15)\n",
        "plt.ylim(-.1,1.1)\n",
        "\n",
        "a = 0\n",
        "b = 0\n",
        "lr = 0.05\n",
        "\n",
        "def sigmoid(x):\n",
        "  return 1 / (1 + np.e ** (-x))\n",
        "\n",
        "for i in range(2001):\n",
        "  for x_data, y_data in data:\n",
        "    a_diff = x_data * (sigmoid(a * x_data + b) - y_data)\n",
        "    b_diff = sigmoid(a * x_data + b) - y_data\n",
        "    a = a - lr * a_diff\n",
        "    b = b - lr * b_diff\n",
        "    if i % 1000 == 0:\n",
        "      print('epochs=%.f, 기울기=%.04f, 절편=%.04f' % (i,a,b))\n",
        "\n",
        "  plt.scatter(x_data, y_data)\n",
        "  plt.xlim(0,15)\n",
        "  plt.ylim(-.1,1.1)\n",
        "  x_range = (np.arange(0, 15, 0.1))\n",
        "  plt.plot(np.arange(0,15,0.1), np.array([sigmoid(a*x + b) for x in x_range]))"
      ],
      "execution_count": 47,
      "outputs": [
        {
          "output_type": "stream",
          "text": [
            "epochs=0, 기울기=-0.0500, 절편=-0.0250\n",
            "epochs=0, 기울기=-0.1388, 절편=-0.0472\n",
            "epochs=0, 기울기=-0.2268, 절편=-0.0619\n",
            "epochs=0, 기울기=0.1201, 절편=-0.0185\n",
            "epochs=0, 기울기=0.2374, 절편=-0.0068\n",
            "epochs=0, 기울기=0.2705, 절편=-0.0040\n",
            "epochs=0, 기울기=0.2860, 절편=-0.0029\n",
            "epochs=1000, 기울기=1.4978, 절편=-9.9401\n",
            "epochs=1000, 기울기=1.4940, 절편=-9.9411\n",
            "epochs=1000, 기울기=1.4120, 절편=-9.9547\n",
            "epochs=1000, 기울기=1.4949, 절편=-9.9444\n",
            "epochs=1000, 기울기=1.4982, 절편=-9.9440\n",
            "epochs=1000, 기울기=1.4984, 절편=-9.9440\n",
            "epochs=1000, 기울기=1.4985, 절편=-9.9440\n",
            "epochs=2000, 기울기=1.9065, 절편=-12.9489\n",
            "epochs=2000, 기울기=1.9055, 절편=-12.9491\n",
            "epochs=2000, 기울기=1.8515, 절편=-12.9581\n",
            "epochs=2000, 기울기=1.9057, 절편=-12.9514\n",
            "epochs=2000, 기울기=1.9068, 절편=-12.9513\n",
            "epochs=2000, 기울기=1.9068, 절편=-12.9513\n",
            "epochs=2000, 기울기=1.9068, 절편=-12.9513\n"
          ],
          "name": "stdout"
        },
        {
          "output_type": "display_data",
          "data": {
            "image/png": "[encoded data removed]",
            "text/plain": [
              "<Figure size 432x288 with 1 Axes>"
            ]
          },
          "metadata": {
            "tags": [],
            "needs_background": "light"
          }
        }
      ]
    },
    {
      "cell_type": "code",
      "metadata": {
        "id": "ibisFmAgcajf",
        "colab_type": "code",
        "colab": {
          "base_uri": "https://localhost:8080/",
          "height": 89
        },
        "outputId": "7a5077b4-49f1-4a8c-933a-90cdcf9b5753"
      },
      "source": [
        "w11 = np.array([-2, -2])\n",
        "w12 = np.array([2, 2])\n",
        "w2 = np.array([1, 1])\n",
        "b1 = 3\n",
        "b2 = -1\n",
        "b3 = -1\n",
        "\n",
        "def MLP(x, w, b):\n",
        "  y = np.sum(w*x) + b\n",
        "  if y <= 0:\n",
        "    return 0\n",
        "  else:\n",
        "    return 1\n",
        "\n",
        "def NAND(x1, x2):\n",
        "  return MLP(np.array([x1, x2]), w11, b1)\n",
        "\n",
        "def OR(x1, x2):\n",
        "  return MLP(np.array([x1, x2]), w12, b2)\n",
        "\n",
        "def AND(x1, x2):\n",
        "  return MLP(np.array([x1, x2]), w2, b3)\n",
        "\n",
        "def XOR(x1, x2):\n",
        "  return AND(NAND(x1, x2) ,OR(x1, x2))\n",
        "\n",
        "if __name__ == '__main__':\n",
        "  for x in [(0,0), (1,0), (0,1), (1,1)]:\n",
        "    y = XOR(x[0], x[1])\n",
        "    print('입력 값: ' + str(x) + '출력 값: ' + str(y))"
      ],
      "execution_count": 12,
      "outputs": [
        {
          "output_type": "stream",
          "text": [
            "입력 값: (0, 0)출력 값: 0\n",
            "입력 값: (1, 0)출력 값: 1\n",
            "입력 값: (0, 1)출력 값: 1\n",
            "입력 값: (1, 1)출력 값: 0\n"
          ],
          "name": "stdout"
        }
      ]
    },
    {
      "cell_type": "code",
      "metadata": {
        "id": "XYYu1pQ3hF2t",
        "colab_type": "code",
        "colab": {
          "base_uri": "https://localhost:8080/",
          "height": 204
        },
        "outputId": "0688f478-7ce7-42d1-b82d-9f19756dfc2b"
      },
      "source": [
        "df = pd.read_csv('/gdrive/My Drive/data_analysis/modu_deep_learning/deeplearning/dataset/pima-indians-diabetes.csv', names = [\"pregnant\", \"plasma\", \"pressure\", \"thickness\",\n",
        "                                                                                                                              \"insulin\", \"BMI\", \"pedigree\", \"age\", \"class\"])\n",
        "df.head()"
      ],
      "execution_count": 15,
      "outputs": [
        {
          "output_type": "execute_result",
          "data": {
            "text/html": [
              "<div>\n",
              "<style scoped>\n",
              "    .dataframe tbody tr th:only-of-type {\n",
              "        vertical-align: middle;\n",
              "    }\n",
              "\n",
              "    .dataframe tbody tr th {\n",
              "        vertical-align: top;\n",
              "    }\n",
              "\n",
              "    .dataframe thead th {\n",
              "        text-align: right;\n",
              "    }\n",
              "</style>\n",
              "<table border=\"1\" class=\"dataframe\">\n",
              "  <thead>\n",
              "    <tr style=\"text-align: right;\">\n",
              "      <th></th>\n",
              "      <th>pregnant</th>\n",
              "      <th>plasma</th>\n",
              "      <th>pressure</th>\n",
              "      <th>thickness</th>\n",
              "      <th>insulin</th>\n",
              "      <th>BMI</th>\n",
              "      <th>pedigree</th>\n",
              "      <th>age</th>\n",
              "      <th>class</th>\n",
              "    </tr>\n",
              "  </thead>\n",
              "  <tbody>\n",
              "    <tr>\n",
              "      <th>0</th>\n",
              "      <td>6</td>\n",
              "      <td>148</td>\n",
              "      <td>72</td>\n",
              "      <td>35</td>\n",
              "      <td>0</td>\n",
              "      <td>33.6</td>\n",
              "      <td>0.627</td>\n",
              "      <td>50</td>\n",
              "      <td>1</td>\n",
              "    </tr>\n",
              "    <tr>\n",
              "      <th>1</th>\n",
              "      <td>1</td>\n",
              "      <td>85</td>\n",
              "      <td>66</td>\n",
              "      <td>29</td>\n",
              "      <td>0</td>\n",
              "      <td>26.6</td>\n",
              "      <td>0.351</td>\n",
              "      <td>31</td>\n",
              "      <td>0</td>\n",
              "    </tr>\n",
              "    <tr>\n",
              "      <th>2</th>\n",
              "      <td>8</td>\n",
              "      <td>183</td>\n",
              "      <td>64</td>\n",
              "      <td>0</td>\n",
              "      <td>0</td>\n",
              "      <td>23.3</td>\n",
              "      <td>0.672</td>\n",
              "      <td>32</td>\n",
              "      <td>1</td>\n",
              "    </tr>\n",
              "    <tr>\n",
              "      <th>3</th>\n",
              "      <td>1</td>\n",
              "      <td>89</td>\n",
              "      <td>66</td>\n",
              "      <td>23</td>\n",
              "      <td>94</td>\n",
              "      <td>28.1</td>\n",
              "      <td>0.167</td>\n",
              "      <td>21</td>\n",
              "      <td>0</td>\n",
              "    </tr>\n",
              "    <tr>\n",
              "      <th>4</th>\n",
              "      <td>0</td>\n",
              "      <td>137</td>\n",
              "      <td>40</td>\n",
              "      <td>35</td>\n",
              "      <td>168</td>\n",
              "      <td>43.1</td>\n",
              "      <td>2.288</td>\n",
              "      <td>33</td>\n",
              "      <td>1</td>\n",
              "    </tr>\n",
              "  </tbody>\n",
              "</table>\n",
              "</div>"
            ],
            "text/plain": [
              "   pregnant  plasma  pressure  thickness  insulin   BMI  pedigree  age  class\n",
              "0         6     148        72         35        0  33.6     0.627   50      1\n",
              "1         1      85        66         29        0  26.6     0.351   31      0\n",
              "2         8     183        64          0        0  23.3     0.672   32      1\n",
              "3         1      89        66         23       94  28.1     0.167   21      0\n",
              "4         0     137        40         35      168  43.1     2.288   33      1"
            ]
          },
          "metadata": {
            "tags": []
          },
          "execution_count": 15
        }
      ]
    },
    {
      "cell_type": "code",
      "metadata": {
        "id": "2S4yAh0j219V",
        "colab_type": "code",
        "colab": {
          "base_uri": "https://localhost:8080/",
          "height": 305
        },
        "outputId": "455bda56-691b-4216-f15a-08654cd14ef2"
      },
      "source": [
        "df.info()"
      ],
      "execution_count": 16,
      "outputs": [
        {
          "output_type": "stream",
          "text": [
            "<class 'pandas.core.frame.DataFrame'>\n",
            "RangeIndex: 768 entries, 0 to 767\n",
            "Data columns (total 9 columns):\n",
            " #   Column     Non-Null Count  Dtype  \n",
            "---  ------     --------------  -----  \n",
            " 0   pregnant   768 non-null    int64  \n",
            " 1   plasma     768 non-null    int64  \n",
            " 2   pressure   768 non-null    int64  \n",
            " 3   thickness  768 non-null    int64  \n",
            " 4   insulin    768 non-null    int64  \n",
            " 5   BMI        768 non-null    float64\n",
            " 6   pedigree   768 non-null    float64\n",
            " 7   age        768 non-null    int64  \n",
            " 8   class      768 non-null    int64  \n",
            "dtypes: float64(2), int64(7)\n",
            "memory usage: 54.1 KB\n"
          ],
          "name": "stdout"
        }
      ]
    },
    {
      "cell_type": "code",
      "metadata": {
        "id": "sh5Konkp3VLz",
        "colab_type": "code",
        "colab": {
          "base_uri": "https://localhost:8080/",
          "height": 297
        },
        "outputId": "1e09ddf4-f848-4a37-c4a9-06daf66fc313"
      },
      "source": [
        "df.describe()"
      ],
      "execution_count": 17,
      "outputs": [
        {
          "output_type": "execute_result",
          "data": {
            "text/html": [
              "<div>\n",
              "<style scoped>\n",
              "    .dataframe tbody tr th:only-of-type {\n",
              "        vertical-align: middle;\n",
              "    }\n",
              "\n",
              "    .dataframe tbody tr th {\n",
              "        vertical-align: top;\n",
              "    }\n",
              "\n",
              "    .dataframe thead th {\n",
              "        text-align: right;\n",
              "    }\n",
              "</style>\n",
              "<table border=\"1\" class=\"dataframe\">\n",
              "  <thead>\n",
              "    <tr style=\"text-align: right;\">\n",
              "      <th></th>\n",
              "      <th>pregnant</th>\n",
              "      <th>plasma</th>\n",
              "      <th>pressure</th>\n",
              "      <th>thickness</th>\n",
              "      <th>insulin</th>\n",
              "      <th>BMI</th>\n",
              "      <th>pedigree</th>\n",
              "      <th>age</th>\n",
              "      <th>class</th>\n",
              "    </tr>\n",
              "  </thead>\n",
              "  <tbody>\n",
              "    <tr>\n",
              "      <th>count</th>\n",
              "      <td>768.000000</td>\n",
              "      <td>768.000000</td>\n",
              "      <td>768.000000</td>\n",
              "      <td>768.000000</td>\n",
              "      <td>768.000000</td>\n",
              "      <td>768.000000</td>\n",
              "      <td>768.000000</td>\n",
              "      <td>768.000000</td>\n",
              "      <td>768.000000</td>\n",
              "    </tr>\n",
              "    <tr>\n",
              "      <th>mean</th>\n",
              "      <td>3.845052</td>\n",
              "      <td>120.894531</td>\n",
              "      <td>69.105469</td>\n",
              "      <td>20.536458</td>\n",
              "      <td>79.799479</td>\n",
              "      <td>31.992578</td>\n",
              "      <td>0.471876</td>\n",
              "      <td>33.240885</td>\n",
              "      <td>0.348958</td>\n",
              "    </tr>\n",
              "    <tr>\n",
              "      <th>std</th>\n",
              "      <td>3.369578</td>\n",
              "      <td>31.972618</td>\n",
              "      <td>19.355807</td>\n",
              "      <td>15.952218</td>\n",
              "      <td>115.244002</td>\n",
              "      <td>7.884160</td>\n",
              "      <td>0.331329</td>\n",
              "      <td>11.760232</td>\n",
              "      <td>0.476951</td>\n",
              "    </tr>\n",
              "    <tr>\n",
              "      <th>min</th>\n",
              "      <td>0.000000</td>\n",
              "      <td>0.000000</td>\n",
              "      <td>0.000000</td>\n",
              "      <td>0.000000</td>\n",
              "      <td>0.000000</td>\n",
              "      <td>0.000000</td>\n",
              "      <td>0.078000</td>\n",
              "      <td>21.000000</td>\n",
              "      <td>0.000000</td>\n",
              "    </tr>\n",
              "    <tr>\n",
              "      <th>25%</th>\n",
              "      <td>1.000000</td>\n",
              "      <td>99.000000</td>\n",
              "      <td>62.000000</td>\n",
              "      <td>0.000000</td>\n",
              "      <td>0.000000</td>\n",
              "      <td>27.300000</td>\n",
              "      <td>0.243750</td>\n",
              "      <td>24.000000</td>\n",
              "      <td>0.000000</td>\n",
              "    </tr>\n",
              "    <tr>\n",
              "      <th>50%</th>\n",
              "      <td>3.000000</td>\n",
              "      <td>117.000000</td>\n",
              "      <td>72.000000</td>\n",
              "      <td>23.000000</td>\n",
              "      <td>30.500000</td>\n",
              "      <td>32.000000</td>\n",
              "      <td>0.372500</td>\n",
              "      <td>29.000000</td>\n",
              "      <td>0.000000</td>\n",
              "    </tr>\n",
              "    <tr>\n",
              "      <th>75%</th>\n",
              "      <td>6.000000</td>\n",
              "      <td>140.250000</td>\n",
              "      <td>80.000000</td>\n",
              "      <td>32.000000</td>\n",
              "      <td>127.250000</td>\n",
              "      <td>36.600000</td>\n",
              "      <td>0.626250</td>\n",
              "      <td>41.000000</td>\n",
              "      <td>1.000000</td>\n",
              "    </tr>\n",
              "    <tr>\n",
              "      <th>max</th>\n",
              "      <td>17.000000</td>\n",
              "      <td>199.000000</td>\n",
              "      <td>122.000000</td>\n",
              "      <td>99.000000</td>\n",
              "      <td>846.000000</td>\n",
              "      <td>67.100000</td>\n",
              "      <td>2.420000</td>\n",
              "      <td>81.000000</td>\n",
              "      <td>1.000000</td>\n",
              "    </tr>\n",
              "  </tbody>\n",
              "</table>\n",
              "</div>"
            ],
            "text/plain": [
              "         pregnant      plasma    pressure  ...    pedigree         age       class\n",
              "count  768.000000  768.000000  768.000000  ...  768.000000  768.000000  768.000000\n",
              "mean     3.845052  120.894531   69.105469  ...    0.471876   33.240885    0.348958\n",
              "std      3.369578   31.972618   19.355807  ...    0.331329   11.760232    0.476951\n",
              "min      0.000000    0.000000    0.000000  ...    0.078000   21.000000    0.000000\n",
              "25%      1.000000   99.000000   62.000000  ...    0.243750   24.000000    0.000000\n",
              "50%      3.000000  117.000000   72.000000  ...    0.372500   29.000000    0.000000\n",
              "75%      6.000000  140.250000   80.000000  ...    0.626250   41.000000    1.000000\n",
              "max     17.000000  199.000000  122.000000  ...    2.420000   81.000000    1.000000\n",
              "\n",
              "[8 rows x 9 columns]"
            ]
          },
          "metadata": {
            "tags": []
          },
          "execution_count": 17
        }
      ]
    },
    {
      "cell_type": "code",
      "metadata": {
        "id": "iYXRheHQ3a1k",
        "colab_type": "code",
        "colab": {
          "base_uri": "https://localhost:8080/",
          "height": 576
        },
        "outputId": "e3299b3e-421f-427a-ed4b-59b500486b0b"
      },
      "source": [
        "df[['pregnant', 'class']].groupby(['pregnant']).mean().reset_index()"
      ],
      "execution_count": 21,
      "outputs": [
        {
          "output_type": "execute_result",
          "data": {
            "text/html": [
              "<div>\n",
              "<style scoped>\n",
              "    .dataframe tbody tr th:only-of-type {\n",
              "        vertical-align: middle;\n",
              "    }\n",
              "\n",
              "    .dataframe tbody tr th {\n",
              "        vertical-align: top;\n",
              "    }\n",
              "\n",
              "    .dataframe thead th {\n",
              "        text-align: right;\n",
              "    }\n",
              "</style>\n",
              "<table border=\"1\" class=\"dataframe\">\n",
              "  <thead>\n",
              "    <tr style=\"text-align: right;\">\n",
              "      <th></th>\n",
              "      <th>pregnant</th>\n",
              "      <th>class</th>\n",
              "    </tr>\n",
              "  </thead>\n",
              "  <tbody>\n",
              "    <tr>\n",
              "      <th>0</th>\n",
              "      <td>0</td>\n",
              "      <td>0.342342</td>\n",
              "    </tr>\n",
              "    <tr>\n",
              "      <th>1</th>\n",
              "      <td>1</td>\n",
              "      <td>0.214815</td>\n",
              "    </tr>\n",
              "    <tr>\n",
              "      <th>2</th>\n",
              "      <td>2</td>\n",
              "      <td>0.184466</td>\n",
              "    </tr>\n",
              "    <tr>\n",
              "      <th>3</th>\n",
              "      <td>3</td>\n",
              "      <td>0.360000</td>\n",
              "    </tr>\n",
              "    <tr>\n",
              "      <th>4</th>\n",
              "      <td>4</td>\n",
              "      <td>0.338235</td>\n",
              "    </tr>\n",
              "    <tr>\n",
              "      <th>5</th>\n",
              "      <td>5</td>\n",
              "      <td>0.368421</td>\n",
              "    </tr>\n",
              "    <tr>\n",
              "      <th>6</th>\n",
              "      <td>6</td>\n",
              "      <td>0.320000</td>\n",
              "    </tr>\n",
              "    <tr>\n",
              "      <th>7</th>\n",
              "      <td>7</td>\n",
              "      <td>0.555556</td>\n",
              "    </tr>\n",
              "    <tr>\n",
              "      <th>8</th>\n",
              "      <td>8</td>\n",
              "      <td>0.578947</td>\n",
              "    </tr>\n",
              "    <tr>\n",
              "      <th>9</th>\n",
              "      <td>9</td>\n",
              "      <td>0.642857</td>\n",
              "    </tr>\n",
              "    <tr>\n",
              "      <th>10</th>\n",
              "      <td>10</td>\n",
              "      <td>0.416667</td>\n",
              "    </tr>\n",
              "    <tr>\n",
              "      <th>11</th>\n",
              "      <td>11</td>\n",
              "      <td>0.636364</td>\n",
              "    </tr>\n",
              "    <tr>\n",
              "      <th>12</th>\n",
              "      <td>12</td>\n",
              "      <td>0.444444</td>\n",
              "    </tr>\n",
              "    <tr>\n",
              "      <th>13</th>\n",
              "      <td>13</td>\n",
              "      <td>0.500000</td>\n",
              "    </tr>\n",
              "    <tr>\n",
              "      <th>14</th>\n",
              "      <td>14</td>\n",
              "      <td>1.000000</td>\n",
              "    </tr>\n",
              "    <tr>\n",
              "      <th>15</th>\n",
              "      <td>15</td>\n",
              "      <td>1.000000</td>\n",
              "    </tr>\n",
              "    <tr>\n",
              "      <th>16</th>\n",
              "      <td>17</td>\n",
              "      <td>1.000000</td>\n",
              "    </tr>\n",
              "  </tbody>\n",
              "</table>\n",
              "</div>"
            ],
            "text/plain": [
              "    pregnant     class\n",
              "0          0  0.342342\n",
              "1          1  0.214815\n",
              "2          2  0.184466\n",
              "3          3  0.360000\n",
              "4          4  0.338235\n",
              "5          5  0.368421\n",
              "6          6  0.320000\n",
              "7          7  0.555556\n",
              "8          8  0.578947\n",
              "9          9  0.642857\n",
              "10        10  0.416667\n",
              "11        11  0.636364\n",
              "12        12  0.444444\n",
              "13        13  0.500000\n",
              "14        14  1.000000\n",
              "15        15  1.000000\n",
              "16        17  1.000000"
            ]
          },
          "metadata": {
            "tags": []
          },
          "execution_count": 21
        }
      ]
    },
    {
      "cell_type": "code",
      "metadata": {
        "id": "wpZnKJ-G4TgF",
        "colab_type": "code",
        "colab": {
          "base_uri": "https://localhost:8080/",
          "height": 758
        },
        "outputId": "0f7b1ac5-37ec-4aeb-f3a9-d0a7491a1f4c"
      },
      "source": [
        "import seaborn as sns\n",
        "\n",
        "plt.figure(figsize=(12,12))\n",
        "\n",
        "sns.heatmap(df.corr(), linewidths = 0.1, vmax = 0.5, cmap = plt.cm.gist_heat, linecolor = 'white', annot=True)"
      ],
      "execution_count": 22,
      "outputs": [
        {
          "output_type": "stream",
          "text": [
            "/usr/local/lib/python3.6/dist-packages/statsmodels/tools/_testing.py:19: FutureWarning: pandas.util.testing is deprecated. Use the functions in the public API at pandas.testing instead.\n",
            "  import pandas.util.testing as tm\n"
          ],
          "name": "stderr"
        },
        {
          "output_type": "execute_result",
          "data": {
            "text/plain": [
              "<matplotlib.axes._subplots.AxesSubplot at 0x7fe687ec1978>"
            ]
          },
          "metadata": {
            "tags": []
          },
          "execution_count": 22
        },
        {
          "output_type": "display_data",
          "data": {
            "image/png": "[encoded data removed]",
            "text/plain": [
              "<Figure size 864x864 with 2 Axes>"
            ]
          },
          "metadata": {
            "tags": [],
            "needs_background": "light"
          }
        }
      ]
    },
    {
      "cell_type": "code",
      "metadata": {
        "id": "2hHV8ItL5o_k",
        "colab_type": "code",
        "colab": {
          "base_uri": "https://localhost:8080/",
          "height": 243
        },
        "outputId": "61130328-247b-48e3-839d-256a60cb57d0"
      },
      "source": [
        "grid = sns.FacetGrid(df, col = 'class')\n",
        "grid.map(plt.hist, 'plasma', bins = 10)"
      ],
      "execution_count": 24,
      "outputs": [
        {
          "output_type": "execute_result",
          "data": {
            "text/plain": [
              "<seaborn.axisgrid.FacetGrid at 0x7fe683c16fd0>"
            ]
          },
          "metadata": {
            "tags": []
          },
          "execution_count": 24
        },
        {
          "output_type": "display_data",
          "data": {
            "image/png": "[encoded data removed]",
            "text/plain": [
              "<Figure size 432x216 with 2 Axes>"
            ]
          },
          "metadata": {
            "tags": [],
            "needs_background": "light"
          }
        }
      ]
    },
    {
      "cell_type": "code",
      "metadata": {
        "id": "a6UqN3Q_6gZo",
        "colab_type": "code",
        "colab": {
          "base_uri": "https://localhost:8080/",
          "height": 1000
        },
        "outputId": "888f9431-6f8b-4ccb-ae18-3ba6867db94f"
      },
      "source": [
        "seed = 3\n",
        "\n",
        "np.random.seed(seed)\n",
        "tf.random.set_seed(seed)\n",
        "\n",
        "dataset = np.loadtxt('/gdrive/My Drive/data_analysis/modu_deep_learning/deeplearning/dataset/pima-indians-diabetes.csv', delimiter=\",\")\n",
        "X = dataset[:,0:8]\n",
        "Y = dataset[:,8]\n",
        "\n",
        "model = Sequential()\n",
        "model.add(Dense(12, input_dim = 8, activation='relu'))\n",
        "model.add(Dense(8, activation='relu'))\n",
        "model.add(Dense(1, activation='sigmoid'))\n",
        "\n",
        "model.compile(loss = 'binary_crossentropy', optimizer = 'adam', metrics=['accuracy'])\n",
        "\n",
        "model.fit(X, Y, epochs = 200, batch_size = 10)\n",
        "\n",
        "print(\"\\n Accuracy: %.4f\" % (model.evaluate(X,Y)[1]))"
      ],
      "execution_count": 26,
      "outputs": [
        {
          "output_type": "stream",
          "text": [
            "Epoch 1/200\n",
            "77/77 [==============================] - 0s 1ms/step - loss: 10.5440 - accuracy: 0.6159\n",
            "Epoch 2/200\n",
            "77/77 [==============================] - 0s 1ms/step - loss: 5.4367 - accuracy: 0.6029\n",
            "Epoch 3/200\n",
            "77/77 [==============================] - 0s 965us/step - loss: 2.9292 - accuracy: 0.5208\n",
            "Epoch 4/200\n",
            "77/77 [==============================] - 0s 993us/step - loss: 1.5346 - accuracy: 0.5208\n",
            "Epoch 5/200\n",
            "77/77 [==============================] - 0s 1ms/step - loss: 0.8896 - accuracy: 0.5000\n",
            "Epoch 6/200\n",
            "77/77 [==============================] - 0s 961us/step - loss: 0.8072 - accuracy: 0.5234\n",
            "Epoch 7/200\n",
            "77/77 [==============================] - 0s 1ms/step - loss: 0.7655 - accuracy: 0.6549\n",
            "Epoch 8/200\n",
            "77/77 [==============================] - 0s 1ms/step - loss: 0.7306 - accuracy: 0.6628\n",
            "Epoch 9/200\n",
            "77/77 [==============================] - 0s 994us/step - loss: 0.6943 - accuracy: 0.6706\n",
            "Epoch 10/200\n",
            "77/77 [==============================] - 0s 974us/step - loss: 0.6656 - accuracy: 0.6758\n",
            "Epoch 11/200\n",
            "77/77 [==============================] - 0s 1ms/step - loss: 0.6390 - accuracy: 0.6797\n",
            "Epoch 12/200\n",
            "77/77 [==============================] - 0s 1ms/step - loss: 0.6198 - accuracy: 0.6823\n",
            "Epoch 13/200\n",
            "77/77 [==============================] - 0s 1ms/step - loss: 0.6072 - accuracy: 0.6979\n",
            "Epoch 14/200\n",
            "77/77 [==============================] - 0s 1ms/step - loss: 0.6112 - accuracy: 0.6966\n",
            "Epoch 15/200\n",
            "77/77 [==============================] - 0s 1ms/step - loss: 0.5993 - accuracy: 0.7005\n",
            "Epoch 16/200\n",
            "77/77 [==============================] - 0s 1ms/step - loss: 0.5894 - accuracy: 0.6940\n",
            "Epoch 17/200\n",
            "77/77 [==============================] - 0s 1ms/step - loss: 0.5915 - accuracy: 0.7057\n",
            "Epoch 18/200\n",
            "77/77 [==============================] - 0s 1ms/step - loss: 0.5854 - accuracy: 0.7122\n",
            "Epoch 19/200\n",
            "77/77 [==============================] - 0s 998us/step - loss: 0.5873 - accuracy: 0.6992\n",
            "Epoch 20/200\n",
            "77/77 [==============================] - 0s 995us/step - loss: 0.5820 - accuracy: 0.7070\n",
            "Epoch 21/200\n",
            "77/77 [==============================] - 0s 926us/step - loss: 0.5838 - accuracy: 0.6810\n",
            "Epoch 22/200\n",
            "77/77 [==============================] - 0s 1ms/step - loss: 0.5759 - accuracy: 0.7109\n",
            "Epoch 23/200\n",
            "77/77 [==============================] - 0s 1ms/step - loss: 0.5752 - accuracy: 0.7148\n",
            "Epoch 24/200\n",
            "77/77 [==============================] - 0s 1ms/step - loss: 0.5767 - accuracy: 0.7070\n",
            "Epoch 25/200\n",
            "77/77 [==============================] - 0s 1ms/step - loss: 0.5737 - accuracy: 0.7122\n",
            "Epoch 26/200\n",
            "77/77 [==============================] - 0s 968us/step - loss: 0.5664 - accuracy: 0.7161\n",
            "Epoch 27/200\n",
            "77/77 [==============================] - 0s 1ms/step - loss: 0.5801 - accuracy: 0.7057\n",
            "Epoch 28/200\n",
            "77/77 [==============================] - 0s 982us/step - loss: 0.5755 - accuracy: 0.7174\n",
            "Epoch 29/200\n",
            "77/77 [==============================] - 0s 1ms/step - loss: 0.5654 - accuracy: 0.7161\n",
            "Epoch 30/200\n",
            "77/77 [==============================] - 0s 1ms/step - loss: 0.5635 - accuracy: 0.7188\n",
            "Epoch 31/200\n",
            "77/77 [==============================] - 0s 1ms/step - loss: 0.5602 - accuracy: 0.7122\n",
            "Epoch 32/200\n",
            "77/77 [==============================] - 0s 971us/step - loss: 0.5683 - accuracy: 0.7109\n",
            "Epoch 33/200\n",
            "77/77 [==============================] - 0s 1ms/step - loss: 0.5661 - accuracy: 0.7018\n",
            "Epoch 34/200\n",
            "77/77 [==============================] - 0s 1ms/step - loss: 0.5578 - accuracy: 0.7214\n",
            "Epoch 35/200\n",
            "77/77 [==============================] - 0s 1ms/step - loss: 0.5563 - accuracy: 0.7305\n",
            "Epoch 36/200\n",
            "77/77 [==============================] - 0s 1ms/step - loss: 0.5657 - accuracy: 0.7122\n",
            "Epoch 37/200\n",
            "77/77 [==============================] - 0s 975us/step - loss: 0.5529 - accuracy: 0.7070\n",
            "Epoch 38/200\n",
            "77/77 [==============================] - 0s 1ms/step - loss: 0.5537 - accuracy: 0.7227\n",
            "Epoch 39/200\n",
            "77/77 [==============================] - 0s 1ms/step - loss: 0.5552 - accuracy: 0.7174\n",
            "Epoch 40/200\n",
            "77/77 [==============================] - 0s 999us/step - loss: 0.5539 - accuracy: 0.7292\n",
            "Epoch 41/200\n",
            "77/77 [==============================] - 0s 1ms/step - loss: 0.5523 - accuracy: 0.7253\n",
            "Epoch 42/200\n",
            "77/77 [==============================] - 0s 1ms/step - loss: 0.5533 - accuracy: 0.7227\n",
            "Epoch 43/200\n",
            "77/77 [==============================] - 0s 1ms/step - loss: 0.5535 - accuracy: 0.7201\n",
            "Epoch 44/200\n",
            "77/77 [==============================] - 0s 979us/step - loss: 0.5433 - accuracy: 0.7240\n",
            "Epoch 45/200\n",
            "77/77 [==============================] - 0s 1ms/step - loss: 0.5648 - accuracy: 0.7122\n",
            "Epoch 46/200\n",
            "77/77 [==============================] - 0s 1ms/step - loss: 0.5478 - accuracy: 0.7161\n",
            "Epoch 47/200\n",
            "77/77 [==============================] - 0s 1ms/step - loss: 0.5480 - accuracy: 0.7266\n",
            "Epoch 48/200\n",
            "77/77 [==============================] - 0s 1ms/step - loss: 0.5413 - accuracy: 0.7318\n",
            "Epoch 49/200\n",
            "77/77 [==============================] - 0s 1ms/step - loss: 0.5410 - accuracy: 0.7253\n",
            "Epoch 50/200\n",
            "77/77 [==============================] - 0s 1ms/step - loss: 0.5396 - accuracy: 0.7318\n",
            "Epoch 51/200\n",
            "77/77 [==============================] - 0s 1ms/step - loss: 0.5349 - accuracy: 0.7279\n",
            "Epoch 52/200\n",
            "77/77 [==============================] - 0s 1ms/step - loss: 0.5345 - accuracy: 0.7383\n",
            "Epoch 53/200\n",
            "77/77 [==============================] - 0s 1ms/step - loss: 0.5354 - accuracy: 0.7240\n",
            "Epoch 54/200\n",
            "77/77 [==============================] - 0s 1ms/step - loss: 0.5387 - accuracy: 0.7188\n",
            "Epoch 55/200\n",
            "77/77 [==============================] - 0s 1ms/step - loss: 0.5336 - accuracy: 0.7253\n",
            "Epoch 56/200\n",
            "77/77 [==============================] - 0s 1ms/step - loss: 0.5412 - accuracy: 0.7174\n",
            "Epoch 57/200\n",
            "77/77 [==============================] - 0s 942us/step - loss: 0.5511 - accuracy: 0.7240\n",
            "Epoch 58/200\n",
            "77/77 [==============================] - 0s 1ms/step - loss: 0.5298 - accuracy: 0.7331\n",
            "Epoch 59/200\n",
            "77/77 [==============================] - 0s 1ms/step - loss: 0.5324 - accuracy: 0.7344\n",
            "Epoch 60/200\n",
            "77/77 [==============================] - 0s 975us/step - loss: 0.5280 - accuracy: 0.7292\n",
            "Epoch 61/200\n",
            "77/77 [==============================] - 0s 1ms/step - loss: 0.5304 - accuracy: 0.7292\n",
            "Epoch 62/200\n",
            "77/77 [==============================] - 0s 1ms/step - loss: 0.5373 - accuracy: 0.7214\n",
            "Epoch 63/200\n",
            "77/77 [==============================] - 0s 998us/step - loss: 0.5283 - accuracy: 0.7357\n",
            "Epoch 64/200\n",
            "77/77 [==============================] - 0s 1ms/step - loss: 0.5234 - accuracy: 0.7396\n",
            "Epoch 65/200\n",
            "77/77 [==============================] - 0s 969us/step - loss: 0.5239 - accuracy: 0.7383\n",
            "Epoch 66/200\n",
            "77/77 [==============================] - 0s 1ms/step - loss: 0.5215 - accuracy: 0.7344\n",
            "Epoch 67/200\n",
            "77/77 [==============================] - 0s 1ms/step - loss: 0.5193 - accuracy: 0.7396\n",
            "Epoch 68/200\n",
            "77/77 [==============================] - 0s 1ms/step - loss: 0.5241 - accuracy: 0.7357\n",
            "Epoch 69/200\n",
            "77/77 [==============================] - 0s 950us/step - loss: 0.5224 - accuracy: 0.7370\n",
            "Epoch 70/200\n",
            "77/77 [==============================] - 0s 990us/step - loss: 0.5183 - accuracy: 0.7383\n",
            "Epoch 71/200\n",
            "77/77 [==============================] - 0s 1ms/step - loss: 0.5164 - accuracy: 0.7344\n",
            "Epoch 72/200\n",
            "77/77 [==============================] - 0s 1ms/step - loss: 0.5182 - accuracy: 0.7357\n",
            "Epoch 73/200\n",
            "77/77 [==============================] - 0s 1ms/step - loss: 0.5178 - accuracy: 0.7292\n",
            "Epoch 74/200\n",
            "77/77 [==============================] - 0s 1ms/step - loss: 0.5187 - accuracy: 0.7396\n",
            "Epoch 75/200\n",
            "77/77 [==============================] - 0s 1ms/step - loss: 0.5240 - accuracy: 0.7344\n",
            "Epoch 76/200\n",
            "77/77 [==============================] - 0s 999us/step - loss: 0.5209 - accuracy: 0.7370\n",
            "Epoch 77/200\n",
            "77/77 [==============================] - 0s 1ms/step - loss: 0.5177 - accuracy: 0.7331\n",
            "Epoch 78/200\n",
            "77/77 [==============================] - 0s 977us/step - loss: 0.5169 - accuracy: 0.7370\n",
            "Epoch 79/200\n",
            "77/77 [==============================] - 0s 1ms/step - loss: 0.5225 - accuracy: 0.7318\n",
            "Epoch 80/200\n",
            "77/77 [==============================] - 0s 973us/step - loss: 0.5092 - accuracy: 0.7435\n",
            "Epoch 81/200\n",
            "77/77 [==============================] - 0s 1ms/step - loss: 0.5121 - accuracy: 0.7422\n",
            "Epoch 82/200\n",
            "77/77 [==============================] - 0s 958us/step - loss: 0.5087 - accuracy: 0.7461\n",
            "Epoch 83/200\n",
            "77/77 [==============================] - 0s 1ms/step - loss: 0.5171 - accuracy: 0.7344\n",
            "Epoch 84/200\n",
            "77/77 [==============================] - 0s 1ms/step - loss: 0.5120 - accuracy: 0.7305\n",
            "Epoch 85/200\n",
            "77/77 [==============================] - 0s 1ms/step - loss: 0.5088 - accuracy: 0.7461\n",
            "Epoch 86/200\n",
            "77/77 [==============================] - 0s 1ms/step - loss: 0.5046 - accuracy: 0.7513\n",
            "Epoch 87/200\n",
            "77/77 [==============================] - 0s 1ms/step - loss: 0.5061 - accuracy: 0.7500\n",
            "Epoch 88/200\n",
            "77/77 [==============================] - 0s 1ms/step - loss: 0.5073 - accuracy: 0.7500\n",
            "Epoch 89/200\n",
            "77/77 [==============================] - 0s 1ms/step - loss: 0.5080 - accuracy: 0.7474\n",
            "Epoch 90/200\n",
            "77/77 [==============================] - 0s 983us/step - loss: 0.5111 - accuracy: 0.7357\n",
            "Epoch 91/200\n",
            "77/77 [==============================] - 0s 1ms/step - loss: 0.5293 - accuracy: 0.7305\n",
            "Epoch 92/200\n",
            "77/77 [==============================] - 0s 988us/step - loss: 0.5144 - accuracy: 0.7513\n",
            "Epoch 93/200\n",
            "77/77 [==============================] - 0s 956us/step - loss: 0.5008 - accuracy: 0.7513\n",
            "Epoch 94/200\n",
            "77/77 [==============================] - 0s 1ms/step - loss: 0.5034 - accuracy: 0.7461\n",
            "Epoch 95/200\n",
            "77/77 [==============================] - 0s 1ms/step - loss: 0.5097 - accuracy: 0.7448\n",
            "Epoch 96/200\n",
            "77/77 [==============================] - 0s 993us/step - loss: 0.4999 - accuracy: 0.7318\n",
            "Epoch 97/200\n",
            "77/77 [==============================] - 0s 997us/step - loss: 0.4978 - accuracy: 0.7552\n",
            "Epoch 98/200\n",
            "77/77 [==============================] - 0s 1ms/step - loss: 0.5050 - accuracy: 0.7344\n",
            "Epoch 99/200\n",
            "77/77 [==============================] - 0s 949us/step - loss: 0.5071 - accuracy: 0.7500\n",
            "Epoch 100/200\n",
            "77/77 [==============================] - 0s 1ms/step - loss: 0.5004 - accuracy: 0.7513\n",
            "Epoch 101/200\n",
            "77/77 [==============================] - 0s 981us/step - loss: 0.5015 - accuracy: 0.7448\n",
            "Epoch 102/200\n",
            "77/77 [==============================] - 0s 927us/step - loss: 0.4960 - accuracy: 0.7526\n",
            "Epoch 103/200\n",
            "77/77 [==============================] - 0s 1ms/step - loss: 0.5054 - accuracy: 0.7409\n",
            "Epoch 104/200\n",
            "77/77 [==============================] - 0s 985us/step - loss: 0.4959 - accuracy: 0.7552\n",
            "Epoch 105/200\n",
            "77/77 [==============================] - 0s 1ms/step - loss: 0.4943 - accuracy: 0.7487\n",
            "Epoch 106/200\n",
            "77/77 [==============================] - 0s 964us/step - loss: 0.5006 - accuracy: 0.7526\n",
            "Epoch 107/200\n",
            "77/77 [==============================] - 0s 1ms/step - loss: 0.5023 - accuracy: 0.7539\n",
            "Epoch 108/200\n",
            "77/77 [==============================] - 0s 965us/step - loss: 0.5055 - accuracy: 0.7526\n",
            "Epoch 109/200\n",
            "77/77 [==============================] - 0s 1ms/step - loss: 0.4918 - accuracy: 0.7487\n",
            "Epoch 110/200\n",
            "77/77 [==============================] - 0s 1ms/step - loss: 0.5006 - accuracy: 0.7578\n",
            "Epoch 111/200\n",
            "77/77 [==============================] - 0s 1ms/step - loss: 0.4911 - accuracy: 0.7617\n",
            "Epoch 112/200\n",
            "77/77 [==============================] - 0s 1ms/step - loss: 0.4916 - accuracy: 0.7500\n",
            "Epoch 113/200\n",
            "77/77 [==============================] - 0s 1ms/step - loss: 0.4930 - accuracy: 0.7539\n",
            "Epoch 114/200\n",
            "77/77 [==============================] - 0s 1ms/step - loss: 0.4937 - accuracy: 0.7578\n",
            "Epoch 115/200\n",
            "77/77 [==============================] - 0s 994us/step - loss: 0.4932 - accuracy: 0.7565\n",
            "Epoch 116/200\n",
            "77/77 [==============================] - 0s 998us/step - loss: 0.4913 - accuracy: 0.7474\n",
            "Epoch 117/200\n",
            "77/77 [==============================] - 0s 1ms/step - loss: 0.4969 - accuracy: 0.7539\n",
            "Epoch 118/200\n",
            "77/77 [==============================] - 0s 950us/step - loss: 0.4920 - accuracy: 0.7474\n",
            "Epoch 119/200\n",
            "77/77 [==============================] - 0s 1ms/step - loss: 0.5022 - accuracy: 0.7552\n",
            "Epoch 120/200\n",
            "77/77 [==============================] - 0s 1ms/step - loss: 0.4908 - accuracy: 0.7461\n",
            "Epoch 121/200\n",
            "77/77 [==============================] - 0s 1ms/step - loss: 0.4847 - accuracy: 0.7526\n",
            "Epoch 122/200\n",
            "77/77 [==============================] - 0s 965us/step - loss: 0.4915 - accuracy: 0.7461\n",
            "Epoch 123/200\n",
            "77/77 [==============================] - 0s 1ms/step - loss: 0.4918 - accuracy: 0.7461\n",
            "Epoch 124/200\n",
            "77/77 [==============================] - 0s 1ms/step - loss: 0.4932 - accuracy: 0.7487\n",
            "Epoch 125/200\n",
            "77/77 [==============================] - 0s 1ms/step - loss: 0.4904 - accuracy: 0.7539\n",
            "Epoch 126/200\n",
            "77/77 [==============================] - 0s 971us/step - loss: 0.4814 - accuracy: 0.7630\n",
            "Epoch 127/200\n",
            "77/77 [==============================] - 0s 1ms/step - loss: 0.4960 - accuracy: 0.7578\n",
            "Epoch 128/200\n",
            "77/77 [==============================] - 0s 1ms/step - loss: 0.4880 - accuracy: 0.7591\n",
            "Epoch 129/200\n",
            "77/77 [==============================] - 0s 1ms/step - loss: 0.4992 - accuracy: 0.7331\n",
            "Epoch 130/200\n",
            "77/77 [==============================] - 0s 1ms/step - loss: 0.4868 - accuracy: 0.7565\n",
            "Epoch 131/200\n",
            "77/77 [==============================] - 0s 1ms/step - loss: 0.4831 - accuracy: 0.7695\n",
            "Epoch 132/200\n",
            "77/77 [==============================] - 0s 985us/step - loss: 0.4854 - accuracy: 0.7552\n",
            "Epoch 133/200\n",
            "77/77 [==============================] - 0s 1ms/step - loss: 0.4851 - accuracy: 0.7643\n",
            "Epoch 134/200\n",
            "77/77 [==============================] - 0s 993us/step - loss: 0.4904 - accuracy: 0.7513\n",
            "Epoch 135/200\n",
            "77/77 [==============================] - 0s 1ms/step - loss: 0.4940 - accuracy: 0.7500\n",
            "Epoch 136/200\n",
            "77/77 [==============================] - 0s 1ms/step - loss: 0.4827 - accuracy: 0.7435\n",
            "Epoch 137/200\n",
            "77/77 [==============================] - 0s 1ms/step - loss: 0.4884 - accuracy: 0.7539\n",
            "Epoch 138/200\n",
            "77/77 [==============================] - 0s 1ms/step - loss: 0.4964 - accuracy: 0.7539\n",
            "Epoch 139/200\n",
            "77/77 [==============================] - 0s 982us/step - loss: 0.4841 - accuracy: 0.7578\n",
            "Epoch 140/200\n",
            "77/77 [==============================] - 0s 979us/step - loss: 0.4849 - accuracy: 0.7695\n",
            "Epoch 141/200\n",
            "77/77 [==============================] - 0s 982us/step - loss: 0.4792 - accuracy: 0.7539\n",
            "Epoch 142/200\n",
            "77/77 [==============================] - 0s 973us/step - loss: 0.4827 - accuracy: 0.7591\n",
            "Epoch 143/200\n",
            "77/77 [==============================] - 0s 935us/step - loss: 0.4916 - accuracy: 0.7604\n",
            "Epoch 144/200\n",
            "77/77 [==============================] - 0s 1ms/step - loss: 0.4814 - accuracy: 0.7578\n",
            "Epoch 145/200\n",
            "77/77 [==============================] - 0s 1ms/step - loss: 0.4941 - accuracy: 0.7526\n",
            "Epoch 146/200\n",
            "77/77 [==============================] - 0s 985us/step - loss: 0.4922 - accuracy: 0.7604\n",
            "Epoch 147/200\n",
            "77/77 [==============================] - 0s 1ms/step - loss: 0.4797 - accuracy: 0.7513\n",
            "Epoch 148/200\n",
            "77/77 [==============================] - 0s 1ms/step - loss: 0.4808 - accuracy: 0.7513\n",
            "Epoch 149/200\n",
            "77/77 [==============================] - 0s 1ms/step - loss: 0.4880 - accuracy: 0.7578\n",
            "Epoch 150/200\n",
            "77/77 [==============================] - 0s 963us/step - loss: 0.4795 - accuracy: 0.7591\n",
            "Epoch 151/200\n",
            "77/77 [==============================] - 0s 988us/step - loss: 0.4826 - accuracy: 0.7630\n",
            "Epoch 152/200\n",
            "77/77 [==============================] - 0s 1ms/step - loss: 0.4801 - accuracy: 0.7513\n",
            "Epoch 153/200\n",
            "77/77 [==============================] - 0s 1ms/step - loss: 0.4805 - accuracy: 0.7604\n",
            "Epoch 154/200\n",
            "77/77 [==============================] - 0s 1ms/step - loss: 0.4812 - accuracy: 0.7656\n",
            "Epoch 155/200\n",
            "77/77 [==============================] - 0s 1ms/step - loss: 0.4752 - accuracy: 0.7591\n",
            "Epoch 156/200\n",
            "77/77 [==============================] - 0s 1ms/step - loss: 0.4727 - accuracy: 0.7734\n",
            "Epoch 157/200\n",
            "77/77 [==============================] - 0s 1ms/step - loss: 0.4836 - accuracy: 0.7539\n",
            "Epoch 158/200\n",
            "77/77 [==============================] - 0s 983us/step - loss: 0.4739 - accuracy: 0.7695\n",
            "Epoch 159/200\n",
            "77/77 [==============================] - 0s 1ms/step - loss: 0.4784 - accuracy: 0.7656\n",
            "Epoch 160/200\n",
            "77/77 [==============================] - 0s 1ms/step - loss: 0.4852 - accuracy: 0.7513\n",
            "Epoch 161/200\n",
            "77/77 [==============================] - 0s 1ms/step - loss: 0.4800 - accuracy: 0.7630\n",
            "Epoch 162/200\n",
            "77/77 [==============================] - 0s 963us/step - loss: 0.4807 - accuracy: 0.7565\n",
            "Epoch 163/200\n",
            "77/77 [==============================] - 0s 1ms/step - loss: 0.4775 - accuracy: 0.7643\n",
            "Epoch 164/200\n",
            "77/77 [==============================] - 0s 1ms/step - loss: 0.4781 - accuracy: 0.7643\n",
            "Epoch 165/200\n",
            "77/77 [==============================] - 0s 1ms/step - loss: 0.4844 - accuracy: 0.7526\n",
            "Epoch 166/200\n",
            "77/77 [==============================] - 0s 1ms/step - loss: 0.4726 - accuracy: 0.7734\n",
            "Epoch 167/200\n",
            "77/77 [==============================] - 0s 1ms/step - loss: 0.4676 - accuracy: 0.7695\n",
            "Epoch 168/200\n",
            "77/77 [==============================] - 0s 991us/step - loss: 0.4768 - accuracy: 0.7643\n",
            "Epoch 169/200\n",
            "77/77 [==============================] - 0s 994us/step - loss: 0.4706 - accuracy: 0.7643\n",
            "Epoch 170/200\n",
            "77/77 [==============================] - 0s 1ms/step - loss: 0.4778 - accuracy: 0.7656\n",
            "Epoch 171/200\n",
            "77/77 [==============================] - 0s 1ms/step - loss: 0.4660 - accuracy: 0.7630\n",
            "Epoch 172/200\n",
            "77/77 [==============================] - 0s 1ms/step - loss: 0.4719 - accuracy: 0.7656\n",
            "Epoch 173/200\n",
            "77/77 [==============================] - 0s 1ms/step - loss: 0.4760 - accuracy: 0.7734\n",
            "Epoch 174/200\n",
            "77/77 [==============================] - 0s 1ms/step - loss: 0.4660 - accuracy: 0.7630\n",
            "Epoch 175/200\n",
            "77/77 [==============================] - 0s 1000us/step - loss: 0.4746 - accuracy: 0.7786\n",
            "Epoch 176/200\n",
            "77/77 [==============================] - 0s 1ms/step - loss: 0.4698 - accuracy: 0.7591\n",
            "Epoch 177/200\n",
            "77/77 [==============================] - 0s 1ms/step - loss: 0.4734 - accuracy: 0.7695\n",
            "Epoch 178/200\n",
            "77/77 [==============================] - 0s 1ms/step - loss: 0.4700 - accuracy: 0.7643\n",
            "Epoch 179/200\n",
            "77/77 [==============================] - 0s 1ms/step - loss: 0.4757 - accuracy: 0.7695\n",
            "Epoch 180/200\n",
            "77/77 [==============================] - 0s 996us/step - loss: 0.4655 - accuracy: 0.7552\n",
            "Epoch 181/200\n",
            "77/77 [==============================] - 0s 973us/step - loss: 0.4737 - accuracy: 0.7708\n",
            "Epoch 182/200\n",
            "77/77 [==============================] - 0s 1ms/step - loss: 0.4818 - accuracy: 0.7682\n",
            "Epoch 183/200\n",
            "77/77 [==============================] - 0s 986us/step - loss: 0.4652 - accuracy: 0.7539\n",
            "Epoch 184/200\n",
            "77/77 [==============================] - 0s 1ms/step - loss: 0.4645 - accuracy: 0.7734\n",
            "Epoch 185/200\n",
            "77/77 [==============================] - 0s 949us/step - loss: 0.4666 - accuracy: 0.7682\n",
            "Epoch 186/200\n",
            "77/77 [==============================] - 0s 989us/step - loss: 0.4669 - accuracy: 0.7721\n",
            "Epoch 187/200\n",
            "77/77 [==============================] - 0s 990us/step - loss: 0.4782 - accuracy: 0.7643\n",
            "Epoch 188/200\n",
            "77/77 [==============================] - 0s 945us/step - loss: 0.4758 - accuracy: 0.7721\n",
            "Epoch 189/200\n",
            "77/77 [==============================] - 0s 993us/step - loss: 0.4657 - accuracy: 0.7760\n",
            "Epoch 190/200\n",
            "77/77 [==============================] - 0s 959us/step - loss: 0.4687 - accuracy: 0.7760\n",
            "Epoch 191/200\n",
            "77/77 [==============================] - 0s 1ms/step - loss: 0.4675 - accuracy: 0.7669\n",
            "Epoch 192/200\n",
            "77/77 [==============================] - 0s 1ms/step - loss: 0.4675 - accuracy: 0.7565\n",
            "Epoch 193/200\n",
            "77/77 [==============================] - 0s 959us/step - loss: 0.4743 - accuracy: 0.7799\n",
            "Epoch 194/200\n",
            "77/77 [==============================] - 0s 1ms/step - loss: 0.4765 - accuracy: 0.7695\n",
            "Epoch 195/200\n",
            "77/77 [==============================] - 0s 1ms/step - loss: 0.4664 - accuracy: 0.7682\n",
            "Epoch 196/200\n",
            "77/77 [==============================] - 0s 1ms/step - loss: 0.4741 - accuracy: 0.7669\n",
            "Epoch 197/200\n",
            "77/77 [==============================] - 0s 1ms/step - loss: 0.4734 - accuracy: 0.7747\n",
            "Epoch 198/200\n",
            "77/77 [==============================] - 0s 977us/step - loss: 0.4668 - accuracy: 0.7578\n",
            "Epoch 199/200\n",
            "77/77 [==============================] - 0s 998us/step - loss: 0.4679 - accuracy: 0.7760\n",
            "Epoch 200/200\n",
            "77/77 [==============================] - 0s 1ms/step - loss: 0.4662 - accuracy: 0.7721\n",
            "24/24 [==============================] - 0s 924us/step - loss: 0.4587 - accuracy: 0.7708\n",
            "\n",
            " Accuracy: 0.7708\n"
          ],
          "name": "stdout"
        }
      ]
    },
    {
      "cell_type": "code",
      "metadata": {
        "id": "g8wQYVZV9Qky",
        "colab_type": "code",
        "colab": {}
      },
      "source": [
        ""
      ],
      "execution_count": null,
      "outputs": []
    }
  ]
}